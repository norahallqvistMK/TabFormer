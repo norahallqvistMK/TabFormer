{
 "cells": [
  {
   "cell_type": "code",
   "execution_count": null,
   "id": "950e9c53",
   "metadata": {
    "vscode": {
     "languageId": "plaintext"
    }
   },
   "outputs": [],
   "source": [
    "import os\n",
    "import matplotlib.pyplot as plt\n",
    "from tensorboard.backend.event_processing import event_accumulator\n",
    "\n",
    "# Path to your event file\n",
    "event_file = \"../results/13072025_400k_v1/logs/events.out.tfevents.1752400028.default.2534.0\"\n",
    "\n",
    "# Load the event file\n",
    "ea = event_accumulator.EventAccumulator(event_file)\n",
    "ea.Reload()\n",
    "\n",
    "# Tags in the event file\n",
    "available_tags = ea.Tags()[\"scalars\"]\n",
    "print(\"Available scalar tags:\", available_tags)\n",
    "\n",
    "# Replace these with your actual tag names if different\n",
    "train_loss_tag = \"train/loss\"\n",
    "eval_loss_tag = \"eval/loss\"\n",
    "\n",
    "# Extract scalars\n",
    "train_loss_events = ea.Scalars(train_loss_tag)\n",
    "eval_loss_events = ea.Scalars(eval_loss_tag)\n",
    "\n",
    "# Parse step and value for plotting\n",
    "train_steps = [e.step for e in train_loss_events]\n",
    "train_values = [e.value for e in train_loss_events]\n",
    "\n",
    "eval_steps = [e.step for e in eval_loss_events]\n",
    "eval_values = [e.value for e in eval_loss_events]\n",
    "\n",
    "# Find best losses\n",
    "min_train_loss = min(train_values)\n",
    "min_train_step = train_steps[train_values.index(min_train_loss)]\n",
    "\n",
    "min_eval_loss = min(eval_values)\n",
    "min_eval_step = eval_steps[eval_values.index(min_eval_loss)]\n",
    "\n",
    "# Print best results\n",
    "print(f\"Best Train Loss: {min_train_loss:.4f} at Step {min_train_step}\")\n",
    "print(f\"Best Eval Loss: {min_eval_loss:.4f} at Step {min_eval_step}\")\n",
    "\n",
    "# Plotting\n",
    "plt.figure(figsize=(10, 6))\n",
    "plt.plot(train_steps, train_values, label=\"Train Loss\", color=\"blue\")\n",
    "plt.plot(eval_steps, eval_values, label=\"Eval Loss\", color=\"orange\")\n",
    "plt.scatter(min_train_step, min_train_loss, color='blue', marker='o', label=f\"Best Train Loss ({min_train_loss:.4f})\")\n",
    "plt.scatter(min_eval_step, min_eval_loss, color='orange', marker='x', label=f\"Best Eval Loss ({min_eval_loss:.4f})\")\n",
    "plt.xlabel(\"Step\")\n",
    "plt.ylabel(\"Loss\")\n",
    "plt.title(\"Training and Evaluation Loss\")\n",
    "plt.legend()\n",
    "plt.grid(True)\n",
    "plt.tight_layout()\n",
    "plt.savefig(\"400k_train_eval_loss.png\")\n",
    "plt.show()\n"
   ]
  },
  {
   "cell_type": "code",
   "execution_count": null,
   "id": "9950e150",
   "metadata": {
    "vscode": {
     "languageId": "plaintext"
    }
   },
   "outputs": [],
   "source": []
  }
 ],
 "metadata": {
  "language_info": {
   "name": "python"
  }
 },
 "nbformat": 4,
 "nbformat_minor": 5
}
